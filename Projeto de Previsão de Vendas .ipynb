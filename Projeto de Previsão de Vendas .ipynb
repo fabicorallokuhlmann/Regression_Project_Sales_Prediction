{
 "cells": [
  {
   "cell_type": "code",
   "execution_count": null,
   "id": "e851ed6e",
   "metadata": {},
   "outputs": [],
   "source": [
    "#importando a base de dados\n",
    "import pandas as pd\n",
    "tabela = pd.read_csv(\"advertising.csv\")\n",
    "display(tabela)"
   ]
  },
  {
   "cell_type": "code",
   "execution_count": null,
   "id": "31e143b8",
   "metadata": {},
   "outputs": [],
   "source": [
    "#identificando se há valores vazios ou em formato errado\n",
    "display(tabela.info())\n",
    "print(tabela.columns)"
   ]
  },
  {
   "cell_type": "code",
   "execution_count": null,
   "id": "08305aea",
   "metadata": {},
   "outputs": [],
   "source": [
    "# iniciando a análise exploratória por meio da correlação\n",
    "import seaborn as sns\n",
    "import matplotlib.pyplot as plt\n",
    "\n",
    "display(tabela.corr())\n",
    "\n",
    "# criando e exibindo o gráfico em forma de mapa de calor para a correlação entre as colunas\n",
    "sns.heatmap(tabela.corr(), annot=True, cmap=\"Wistia\")\n",
    "plt.show()"
   ]
  },
  {
   "cell_type": "code",
   "execution_count": null,
   "id": "2385f757",
   "metadata": {},
   "outputs": [],
   "source": [
    "from sklearn.model_selection import train_test_split\n",
    "\n",
    "# escolha das colunas a serem usadas. y é a coluna que queremos que o modelo calcule (vendas) e x são todas as outras colunas (TV, rádio e jornal)\n",
    "y = tabela[\"Vendas\"]\n",
    "x = tabela.drop(\"Vendas\", axis=1)\n",
    "\n",
    "# separando os dados em treino e teste. 70% de treino para os modelos aprenderem e 30% de teste para observar se o modelo aprendeu corretamente\n",
    "x_treino, x_teste, y_treino, y_teste = train_test_split(x, y, test_size=0.3, random_state=1)"
   ]
  },
  {
   "cell_type": "code",
   "execution_count": null,
   "id": "2241b2b4",
   "metadata": {},
   "outputs": [],
   "source": [
    "# problema de regressão -> valores de venda são contínuos\n",
    "# modelos selecionados para fazer o teste: regressão linear, Random Forest, KNN-nearest neighbors e Gradient Boosting \n",
    "\n",
    "# importando as inteligências\n",
    "from sklearn.linear_model import LinearRegression\n",
    "from sklearn.ensemble import RandomForestRegressor\n",
    "from sklearn.neighbors import KNeighborsRegressor\n",
    "from sklearn.ensemble import GradientBoostingRegressor\n",
    "\n",
    "# criando as inteligencias aritificiais\n",
    "modelo_regressaolinear = LinearRegression()\n",
    "modelo_arvoredecisao = RandomForestRegressor()\n",
    "modelo_knn = KNeighborsRegressor()\n",
    "modelo_boost = GradientBoostingRegressor()\n",
    "\n",
    "# treinando as inteligencias artificias\n",
    "modelo_regressaolinear.fit(x_treino, y_treino)\n",
    "modelo_arvoredecisao.fit(x_treino, y_treino)\n",
    "modelo_knn.fit(x_treino, y_treino)\n",
    "modelo_boost.fit(x_treino, y_treino)"
   ]
  },
  {
   "cell_type": "code",
   "execution_count": null,
   "id": "0daa4a5c",
   "metadata": {},
   "outputs": [],
   "source": [
    "from sklearn import metrics\n",
    "\n",
    "# calculando as previsões\n",
    "previsao_regressaolinear = modelo_regressaolinear.predict(x_teste)\n",
    "previsao_arvoredecisao = modelo_arvoredecisao.predict(x_teste)\n",
    "previsao_knn = modelo_knn.predict(x_teste)\n",
    "previsao_boost = modelo_boost.predict(x_teste)\n",
    "\n",
    "# comparando as previsões com o y_teste por meio do R²\n",
    "print(metrics.r2_score(y_teste, previsao_regressaolinear))\n",
    "print(metrics.r2_score(y_teste, previsao_arvoredecisao))  \n",
    "print(metrics.r2_score(y_teste, previsao_knn))  \n",
    "print(metrics.r2_score(y_teste, previsao_boost))  \n",
    "\n",
    "#melhor modelo para esse projeto = Random Forest\n",
    "#96.05% de coeficiente de determinação"
   ]
  },
  {
   "cell_type": "code",
   "execution_count": null,
   "id": "16fcccee",
   "metadata": {},
   "outputs": [],
   "source": [
    "# tabela auxiliar apenas para visualizar o desempenho de cada modelo\n",
    "tabela_auxiliar = pd.DataFrame()\n",
    "tabela_auxiliar[\"y_teste\"] = y_teste\n",
    "tabela_auxiliar[\"Previsoes ArvoreDecisao\"] = previsao_arvoredecisao\n",
    "tabela_auxiliar[\"Previsoes Regressao Linear\"] = previsao_regressaolinear\n",
    "tabela_auxiliar[\"Previsoes KNN\"] = previsao_knn\n",
    "tabela_auxiliar[\"Previsoes Boost\"] = previsao_boost\n",
    "\n",
    "plt.figure(figsize=(15,6))\n",
    "sns.lineplot(data=tabela_auxiliar)\n",
    "plt.show()"
   ]
  },
  {
   "cell_type": "code",
   "execution_count": null,
   "id": "1435e421",
   "metadata": {
    "scrolled": true
   },
   "outputs": [],
   "source": [
    "# executando novas previsões\n",
    "\n",
    "nova_tabela = pd.read_csv(\"novos.csv\")\n",
    "display(nova_tabela)\n",
    "previsao = modelo_arvoredecisao.predict(nova_tabela)\n",
    "print(previsao)"
   ]
  },
  {
   "cell_type": "code",
   "execution_count": null,
   "id": "c4f1671a",
   "metadata": {},
   "outputs": [],
   "source": [
    "# qual a influência de cada variável (TV, rádio e jornal) para as vendas?\n",
    "colunas = list(x_teste.columns)\n",
    "importancia = pd.DataFrame(index=colunas, data=modelo_arvoredecisao.feature_importances_)\n",
    "importancia = importancia * 100\n",
    "print(importancia)\n",
    "\n",
    "sns.barplot(x=x_treino.columns, y=modelo_arvoredecisao.feature_importances_)\n",
    "plt.show()\n",
    "\n",
    "# TV exerce uma influência de um pouco menos do que 90%"
   ]
  }
 ],
 "metadata": {
  "kernelspec": {
   "display_name": "Python 3 (ipykernel)",
   "language": "python",
   "name": "python3"
  },
  "language_info": {
   "codemirror_mode": {
    "name": "ipython",
    "version": 3
   },
   "file_extension": ".py",
   "mimetype": "text/x-python",
   "name": "python",
   "nbconvert_exporter": "python",
   "pygments_lexer": "ipython3",
   "version": "3.11.4"
  }
 },
 "nbformat": 4,
 "nbformat_minor": 5
}
